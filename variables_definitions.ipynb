{
  "nbformat": 4,
  "nbformat_minor": 0,
  "metadata": {
    "colab": {
      "name": "variables_definitions.ipynb",
      "provenance": [],
      "collapsed_sections": [],
      "toc_visible": true,
      "include_colab_link": true
    },
    "kernelspec": {
      "name": "python3",
      "display_name": "Python 3"
    }
  },
  "cells": [
    {
      "cell_type": "markdown",
      "metadata": {
        "id": "view-in-github",
        "colab_type": "text"
      },
      "source": [
        "<a href=\"https://colab.research.google.com/github/carlosbourque/curso-python/blob/master/variables_definitions.ipynb\" target=\"_parent\"><img src=\"https://colab.research.google.com/assets/colab-badge.svg\" alt=\"Open In Colab\"/></a>"
      ]
    },
    {
      "cell_type": "markdown",
      "metadata": {
        "id": "Rdnemy3ClTVb"
      },
      "source": [
        "# Variables y tipos en Python\n",
        "\n",
        "A continuación, vamos a poner en práctica lo aprendido en esta unidad. En esta unidad trabajaremos con variables en python, para ello tenemos que:\n",
        " * dar un nombre a la variable.\n",
        " * usar el signo `=` para asignarle un valor\n",
        " * dar el valor a la variable\n",
        "\n",
        "**NOTA para empezar a trabajar con Colaboratory:** \n",
        "\n",
        "Para comenzar a trabajar con el cuaderno, tienes que conectarte al servidor, para ello, tienes que clickar sobre el boton \"conectar\" que puedes ver arriba a la derecha:\n",
        "\n",
        "![ejecutar](https://i.imgur.com/JQHXXw8.gif)\n",
        "\n",
        "Verás que el botón empieza a cambiar de estados hasta que finalmente se muestra el RAM y el disco duro disponible. Esto indica que ya estamos listos para trabajar!.\n",
        "\n",
        "Para ir ejecutando las celdas del notebook, coloca el puntero del ratón sobre la celda como se indica a continuación, veras que cuando pones el cursor encima, aparecen los simbolos de \"play\",  entonces púlsalo para ejecutar la celda. Una vez lo hayas hecho, veras que aparece un número con el número de celdas que has ejecutado en la sesión:\n",
        "\n",
        "![ejecutar](https://i.imgur.com/Qop9iTm.gif)\n",
        "\n",
        "Por último, veras que en celdas de código, también introduzco comentarios. Los comentarios son útiles para facilitar el entendimiento del código. Para crear comentarios, sólo tengo que comenzar una línea usando el `#`, por ejemplo:\n",
        "```python\n",
        "# Hola!, soy un comentario\n",
        "# y soy útil para facilitar el entendimiento del código\n",
        "```\n"
      ]
    },
    {
      "cell_type": "markdown",
      "metadata": {
        "id": "Nj9dkeOxYnEv"
      },
      "source": [
        "## Strings (texto)"
      ]
    },
    {
      "cell_type": "markdown",
      "metadata": {
        "id": "xNtrGKARV4RB"
      },
      "source": [
        "Ahora, nos toca a nosotros, comienza ejecutando la celda a continuación:"
      ]
    },
    {
      "cell_type": "code",
      "metadata": {
        "id": "wYXKQAjYlSyg"
      },
      "source": [
        "# ejecuta esta celda:\n",
        "y = 4"
      ],
      "execution_count": null,
      "outputs": []
    },
    {
      "cell_type": "code",
      "metadata": {
        "id": "FB1VRsYRJO3a"
      },
      "source": [
        "# comprueba el valor de y:\n",
        "y"
      ],
      "execution_count": null,
      "outputs": []
    },
    {
      "cell_type": "markdown",
      "metadata": {
        "id": "PLw2898GmST0"
      },
      "source": [
        "Acabamos de crear una nueva variable: `y`, que toma el valor `4`. En Python, podemos cambiar el valor al que se asigna una variable según nos convenga. Por ejemplo, ahora quiero que `y` tome el valor `hola`. Para ello, simplemente tengo que asignar la variable a su nuevo valor:"
      ]
    },
    {
      "cell_type": "code",
      "metadata": {
        "id": "j1cCHUX-lLzK"
      },
      "source": [
        "# cambio el valor de la variable de 4, como lo defini anteriormente, a 'hola'\n",
        "y = 'hola'"
      ],
      "execution_count": null,
      "outputs": []
    },
    {
      "cell_type": "markdown",
      "metadata": {
        "id": "mfVYCkZJGaI2"
      },
      "source": [
        "Venga, ahora tú!. \n",
        "\n",
        "Define una variable que se llame `coche` y tome el valor `'opel'`:"
      ]
    },
    {
      "cell_type": "code",
      "metadata": {
        "id": "7bp2tM5QGnvd"
      },
      "source": [
        "# TODO: introduce tu código a continuación:\n",
        "coche = 'opel'\n",
        "\n",
        "# este código que incluyo a continuación es para verifica que lo has hecho bien:\n",
        "# si al ejecutar esta celda sale algún error, entonces es que lo has hecho mal\n",
        "assert coche == 'opel'"
      ],
      "execution_count": null,
      "outputs": []
    },
    {
      "cell_type": "markdown",
      "metadata": {
        "id": "d8atLNvPHAx8"
      },
      "source": [
        "Por ejemplo:\n",
        "\n",
        "![error](https://i.imgur.com/yvFUQ4i.png)\n",
        "\n",
        "Como podeis ver el signo del \"play\" está en rojo indicando que la celda ha dado error y a continuación indica en que línea ha parado y la razón.\n",
        "\n",
        "En este caso, se ha parado en la línea 6 y el error es que no he definido la variable `coche`."
      ]
    },
    {
      "cell_type": "markdown",
      "metadata": {
        "id": "Epf0lVElmugV"
      },
      "source": [
        "Otro punto que tenemos que tener en cuenta es que dependiendo del valor que tenga asignado la variable, esta será de un tipo u otro. Para saber que tipo es una variable, tenemos que usar la función de python `type()`:"
      ]
    },
    {
      "cell_type": "code",
      "metadata": {
        "id": "3SNXqb5TmttS"
      },
      "source": [
        "type(y)"
      ],
      "execution_count": null,
      "outputs": []
    },
    {
      "cell_type": "markdown",
      "metadata": {
        "id": "X24i3MF3nJuv"
      },
      "source": [
        "En este caso, vemos que la variable es `str` (o de texto, como se explica en los videos).\n",
        "\n",
        "Al ser una variable de tipo `str` por supuesto tiene unas propiedades propias, podemos ver un listado de todas las propiedades utilizando la función de python `dir()`:"
      ]
    },
    {
      "cell_type": "code",
      "metadata": {
        "id": "qy6Bzx8dnGm6"
      },
      "source": [
        "dir(y)"
      ],
      "execution_count": null,
      "outputs": []
    },
    {
      "cell_type": "markdown",
      "metadata": {
        "id": "-GFnLXh1oLNg"
      },
      "source": [
        "Por supuesto, el objeto `str` incluye un montón de métodos que se describen en la [documentación Python](https://docs.python.org/es/3/library/stdtypes.html#text-sequence-type-str).\n",
        "\n",
        "Recuerda, para acceder a los métodos de cualquier objeto en Python, tenemos que usar el `.`. Por ejemplo, en el siguiente video voy a crear una variable `z = 'adios'` y voy a usar el método `.replace()` para transformar la `a` en `$`.\n",
        "![upper.png](https://i.imgur.com/oG4vjpi.gif)\n",
        "\n",
        "\n",
        "No dudes en visitar la documentación para conocer cada uno de estos métodos. Por ejemplo, si queremos saber que hace el método [`upper`](https://docs.python.org/es/3/library/stdtypes.html#str.upper), lo consultamos directamente en la documentación donde podemos leer:\n",
        " ![upper.png](https://i.imgur.com/mQMjc0t.png)\n",
        "\n",
        "Es decir, que si aplico este método, transforma el valor de la variable a MAYÚSCULAS:"
      ]
    },
    {
      "cell_type": "code",
      "metadata": {
        "id": "TXKzAPsuWWrG"
      },
      "source": [
        "y.upper()"
      ],
      "execution_count": null,
      "outputs": []
    },
    {
      "cell_type": "markdown",
      "metadata": {
        "id": "XQxXYJtBpYee"
      },
      "source": [
        "Voy a crear una nueva variable, que se llame `saludo` y que tome este valor, para ello:"
      ]
    },
    {
      "cell_type": "code",
      "metadata": {
        "id": "lHY3wC46pO-Y"
      },
      "source": [
        "saludo = y.upper()"
      ],
      "execution_count": null,
      "outputs": []
    },
    {
      "cell_type": "markdown",
      "metadata": {
        "id": "80o_DcUDpkbl"
      },
      "source": [
        "Si quiero saber el valor que tiene la variable `saludo`, uso el método de Python `print()`:"
      ]
    },
    {
      "cell_type": "code",
      "metadata": {
        "id": "QHOVuoqYpjuG"
      },
      "source": [
        "print(saludo)"
      ],
      "execution_count": null,
      "outputs": []
    },
    {
      "cell_type": "markdown",
      "metadata": {
        "id": "cH4_a9FMqb1d"
      },
      "source": [
        "el método `print()` acepta distintos argumentos separados por comas e imprime el valor de cada uno de ellos, por ejemplo:"
      ]
    },
    {
      "cell_type": "code",
      "metadata": {
        "id": "MimZaCZcptZB"
      },
      "source": [
        "print(saludo, y)"
      ],
      "execution_count": null,
      "outputs": []
    },
    {
      "cell_type": "markdown",
      "metadata": {
        "id": "KNinmgK9cSgY"
      },
      "source": [
        "Así mismo, al método `print()` le puedo pasar `string` que se formateen al vuelo, por ejemplO:"
      ]
    },
    {
      "cell_type": "code",
      "metadata": {
        "colab": {
          "base_uri": "https://localhost:8080/"
        },
        "id": "QvqbJRDZcTK2",
        "outputId": "b6eb37e6-2dfe-42f4-b14f-0f6be4ad601e"
      },
      "source": [
        "# defino una variable:\n",
        "coche = 'opel'\n",
        "\n",
        "# en este print, voy a añadir un texto que haga referencia a la variable coche, para ello uso la 'f':\n",
        "print(f'Este modelo de coche es: {coche}')\n",
        "\n",
        "# en este print sin embargo, no voy a incluir la 'f' de format y no reconoce la variable coche:\n",
        "print('Este modelo de coche es: {coche}')"
      ],
      "execution_count": null,
      "outputs": [
        {
          "output_type": "stream",
          "text": [
            "Este modelo de coche es: opel\n",
            "Este modelo de coche es: {coche}\n"
          ],
          "name": "stdout"
        }
      ]
    },
    {
      "cell_type": "markdown",
      "metadata": {
        "id": "WwBynB-BdBSt"
      },
      "source": [
        "¿Ves la diferencia? cuando uso `'f'`, python busca las variables que estan entre llaves (`{}`). Si no le pongo la `'f'` entonces no formatea nada."
      ]
    },
    {
      "cell_type": "markdown",
      "metadata": {
        "id": "ig10iIwZqznl"
      },
      "source": [
        "Por último, respecto a las variables del typo `str`, podemos concatenar tantos métodos como necesitemos. Imaginemos que tenemos una variable cuyo valor es: `h$la adi$s` y que quiero sustituir los valores `$` por `o` para que tenga este aspecto: `hola adios` y finalmente lo quiero pasar a mayúsculas.\n",
        "\n",
        "Entonces debería seguir los siguientes pasos:\n",
        " 1. Definir una variable (llamemosla `z`) que toma el valor `h$la adi$s`\n",
        " 2. aplicar el método [.replace()](https://docs.python.org/es/3/library/stdtypes.html#str.replace) para sustituir `$` por `o` \n",
        " 3. aplicar el método .upper() para pasarlo a mayusculas\n",
        "\n",
        "Es decir:"
      ]
    },
    {
      "cell_type": "code",
      "metadata": {
        "id": "dSknsl4Jqkzx"
      },
      "source": [
        "# creo la variable\n",
        "z = 'h$la adi$s'\n",
        "\n",
        "# vuelvo a asignar a z el valor: z.replace(\"$\", \"o\").upper()\n",
        "z = z.replace(\"$\", \"o\").upper()\n",
        "\n",
        "# imprimo el valor de z:\n",
        "print(z)"
      ],
      "execution_count": null,
      "outputs": []
    },
    {
      "cell_type": "markdown",
      "metadata": {
        "id": "wXhzeTUQIbJ7"
      },
      "source": [
        "Venga, prueba de nuevo.! ¿Podrías definir un string que se llame `direccion` y que tome el valor: `'avenida juan pablo'`?\n",
        "\n",
        "A continuación, podrías usar el método [`.title()`](https://docs.python.org/es/3/library/stdtypes.html#str.title) para pasar cada letra de inicio de la palabra a mayúsculas? \n",
        "\n"
      ]
    },
    {
      "cell_type": "code",
      "metadata": {
        "id": "MacUqZlNJHU-"
      },
      "source": [
        "# TODO: introduce tu código a continuación:\n",
        "direccion = 'avenida juan pablo'\n",
        "\n",
        "# descomenta la línea a continuación si quieres ver el valor de la variable direccion que acabas de definir:\n",
        "# print(direccion)\n",
        "\n",
        "# este código que incluyo a continuación es para verifica que lo has hecho bien:\n",
        "# si al ejecutar esta celda sale algún error, entonces es que lo has hecho mal\n",
        "assert direccion  == 'Avenida Juan Pablo'"
      ],
      "execution_count": null,
      "outputs": []
    },
    {
      "cell_type": "markdown",
      "metadata": {
        "id": "S1H9LMxd65Yr"
      },
      "source": [
        "Ahora, vamos a ver otra propiedad de las variables del tipo `str` y es que estas variables tienen una longitud que podemos calcular con el método `__len__()` o con la función de Python `len()`:"
      ]
    },
    {
      "cell_type": "code",
      "metadata": {
        "id": "UTFBA4jk6jSC"
      },
      "source": [
        "# calcular la longitud del string con __len__\n",
        "print(\"longitud: \", z.__len__())\n",
        "\n",
        "# calcular la longitud del string con len\n",
        "print(\"longitud: \", len(z))"
      ],
      "execution_count": null,
      "outputs": []
    },
    {
      "cell_type": "markdown",
      "metadata": {
        "id": "AFnRjaQP7qXV"
      },
      "source": [
        "Vemos que `z` es una variable `str` con longitud 10, es decir, está compuesto por 10 caracteres.\n",
        "\n",
        "Así mismo, podemos seleccionar distintas partes de la variable como muestro a continuación:"
      ]
    },
    {
      "cell_type": "code",
      "metadata": {
        "id": "tDTLlhVh7lD9"
      },
      "source": [
        "print(z)\n",
        "print(\"imprimir el primer caracter de la variable: \", z[0])\n",
        "print(\"imprimir el último caracter de la variable: \", z[-1])\n",
        "print(\"imprimir todo excepto el primer y el último caracter de la variable: \", z[1:-1])"
      ],
      "execution_count": null,
      "outputs": []
    },
    {
      "cell_type": "markdown",
      "metadata": {
        "id": "GuWlk5Yh-66a"
      },
      "source": [
        "En total, tenemos todas estas opciones:\n",
        "*   `[3]` devuelve el elemento que está en la posición 3 empezando por la izquierda (recuerda que la primera posición en python corresponde a 0)\n",
        "*   `[3:6]` devuelve los elementos que están en la posición 3, 4 y 5\n",
        "*   `[:6]` devuelve los elementos que están en la posición 0, 1, 2, 3, 4 y 5\n",
        "*   `[3:]` devuelve los elementos que están en la posición 3, 4, 5, 6.... hasta ultimo elemento del string\n",
        "*   `[:]` devuelve todos los elementos del string\n",
        "*   `[-3:]` devuelve los 3 últimos elementos del string\n",
        "*   `[-2]` devuelve el penúltimo elemento del string"
      ]
    },
    {
      "cell_type": "code",
      "metadata": {
        "id": "zAa-MdqK_Hho"
      },
      "source": [
        "# defino un string:\n",
        "modelo_coches = 'mercedes'\n",
        "\n",
        "print(modelo_coches[3])\n",
        "print(modelo_coches[3:6])\n",
        "print(modelo_coches[:6])\n",
        "print(modelo_coches[3:])\n",
        "print(modelo_coches[:])\n",
        "print(modelo_coches[-3:])\n",
        "print(modelo_coches[-2])"
      ],
      "execution_count": null,
      "outputs": []
    },
    {
      "cell_type": "markdown",
      "metadata": {
        "id": "FuFmaVA32uxc"
      },
      "source": [
        "Ups!, casi me olvido, puedo hacer operaciones matemáticas con objetos `str`:"
      ]
    },
    {
      "cell_type": "code",
      "metadata": {
        "id": "K1ZHfphD23XY"
      },
      "source": [
        "print(\"valor de la variable z: \", z)\n",
        "print(\"valor de la variable z * 4: \", z * 4)\n",
        "print(\"valor de la variable z + z: \", z + z)"
      ],
      "execution_count": null,
      "outputs": []
    },
    {
      "cell_type": "markdown",
      "metadata": {
        "id": "y33ndCRd8wH8"
      },
      "source": [
        "## int y floats (números)\n",
        "Ahora vamos a trabajar con variables del tipo numéricas, en particular con:\n",
        " * `int` : son números naturales, es decir sin parte decimal, por ejemplo: -10, 0, 20, 100, 39, 2\n",
        " * `float`: son números con parte decimal, por ejemplo: -10.2, 0.0, 234.02904\n",
        "\n",
        "Comencemos definiendo una variable numérica en Python:"
      ]
    },
    {
      "cell_type": "code",
      "metadata": {
        "id": "Fsz7U6wO8OSg"
      },
      "source": [
        "velocidad = 25"
      ],
      "execution_count": null,
      "outputs": []
    },
    {
      "cell_type": "markdown",
      "metadata": {
        "id": "-pjvsUvS9Z0D"
      },
      "source": [
        "Si obtenemos el tipo de `velocidad`, veremos que es `int`:"
      ]
    },
    {
      "cell_type": "code",
      "metadata": {
        "id": "2ApyD8Yb9gGu"
      },
      "source": [
        "type(velocidad)"
      ],
      "execution_count": null,
      "outputs": []
    },
    {
      "cell_type": "markdown",
      "metadata": {
        "id": "DZLlCnC29jIK"
      },
      "source": [
        "Tanto con `int` como con `float` podemos hacer operaciones matemáticas que vienen descritas en la [documentación](https://docs.python.org/es/3/library/stdtypes.html#numeric-types-int-float-complex):\n",
        "\n",
        "![operaciones.png](https://i.imgur.com/LCyZJ1q.png)\n",
        "\n",
        "Es decir, vamos a llevar a cabo los siguientes pasos:\n",
        " 1. Definir una variable `x` que toma el valor `3.14`\n",
        " 2. Pasarla a `int`\n",
        " 3. multiplicarla por 2\n",
        " 4. restarle 11\n"
      ]
    },
    {
      "cell_type": "code",
      "metadata": {
        "id": "lrYqT_dL9hvl"
      },
      "source": [
        "# definir la variable:\n",
        "x = 3.14\n",
        "\n",
        "# imprimir valor y tipo:\n",
        "print(x, type(x))\n",
        "\n",
        "# pasarla a int:\n",
        "x = int(x)\n",
        "\n",
        "# multiplicarla por 2:\n",
        "x = x*2\n",
        "\n",
        "# restarle 11:\n",
        "x = x - 11\n",
        "\n",
        "# imprimir el valor de x y su tipo:\n",
        "print(x, type(x))"
      ],
      "execution_count": null,
      "outputs": []
    },
    {
      "cell_type": "markdown",
      "metadata": {
        "id": "8z-CEPe0-0FE"
      },
      "source": [
        "Fijaros que la variable ha pasado de ser un `float` con valor `3.14` a ser un `int` con valor `-5`."
      ]
    },
    {
      "cell_type": "markdown",
      "metadata": {
        "id": "IDXP3fzmqmOp"
      },
      "source": [
        "Y vamos a terminar con un ejercicio, ¿podrias crear la siguiente ecuación con python?\n",
        "\n",
        "\\begin{align}\n",
        "\\ x & = \\ 4*(y-4*y^2) \\\\\n",
        "\\end{align}"
      ]
    },
    {
      "cell_type": "code",
      "metadata": {
        "id": "7XsxUPyarKhM"
      },
      "source": [
        "# TODO: introduce tu código a continuación:\n",
        "# si has hecho bien la ecuación, debería dar estos resultados:\n",
        "# y=0 -> x=0\n",
        "# y=10 -> x=-1560\n",
        "\n",
        "y = 10\n",
        "x = 4 * (y - 4 * y**2)\n",
        "\n",
        "# descomenta la siguiente linea para comprobar el valor de x para el valor de y\n",
        "print(f\"Para el valor de y: {y}, el valor de x es: {x}\")"
      ],
      "execution_count": null,
      "outputs": []
    }
  ]
}