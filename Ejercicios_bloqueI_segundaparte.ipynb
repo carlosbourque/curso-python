{
  "nbformat": 4,
  "nbformat_minor": 0,
  "metadata": {
    "colab": {
      "name": "Ejercicios_bloqueI_segundaparte.ipynb",
      "provenance": [],
      "collapsed_sections": [
        "rwq3SWaLVoiG",
        "Gm9_6v3CEqwj",
        "38E3yzyjVC2p",
        "N5-rCe-xVC3C",
        "3vrg3sBZOPFw",
        "DjCJV4XzL_CD",
        "8aaP4nEOWW7u"
      ],
      "include_colab_link": true
    },
    "kernelspec": {
      "name": "python3",
      "display_name": "Python 3"
    }
  },
  "cells": [
    {
      "cell_type": "markdown",
      "metadata": {
        "id": "view-in-github",
        "colab_type": "text"
      },
      "source": [
        "<a href=\"https://colab.research.google.com/github/carlosbourque/curso-python/blob/master/Ejercicios_bloqueI_segundaparte.ipynb\" target=\"_parent\"><img src=\"https://colab.research.google.com/assets/colab-badge.svg\" alt=\"Open In Colab\"/></a>"
      ]
    },
    {
      "cell_type": "markdown",
      "metadata": {
        "id": "3dsZmd3tHx6p"
      },
      "source": [
        "# Bloque I\n",
        "\n",
        "A continuación, se incluye una serie de ejercicios relativos al primer bloque del curso.\n",
        "\n",
        "**NOTA:**\n",
        "Todos los ejercicios se estructuran de la siguiente forma:\n",
        "\n",
        "\n",
        "1.   Enunciado: Se expone lo que se requiere hacer\n",
        "2.   Tu Implementación: Celda de código para que resuelvas el ejercicio\n",
        "3.   Validación: se usa el método `assert` para comprobar que has completado el ejercicio correctamente.\n",
        "\n",
        "¿Como funciona `assert`?\n",
        "Este método evalua una igualdad, por ejemplo si realizamos la siguiente igualdad:\n",
        "```\n",
        "1 == 1\n",
        "```\n",
        "El resultado de `assert` será True y por lo tanto OK.\n",
        "Sin embargo, para la siguiente igualdad:\n",
        "```\n",
        "1 == 2\n",
        "```\n",
        "`assert` devolverá [`AssertionError`](https://docs.python.org/3/library/exceptions.html#AssertionError), por lo tanto el ejercicio no está correctamente resuelto y tenemos que seguir trabajando en él.\n"
      ]
    },
    {
      "cell_type": "markdown",
      "metadata": {
        "id": "rwq3SWaLVoiG"
      },
      "source": [
        "## Ejercicio 10:\n",
        "\n",
        "Calcula la suma de los valores numericos de `magic_dict`. \n",
        "\n",
        "NOTA: echa un vistazo al método de Python [isinstance](hhttps://docs.python.org/es/3/library/functions.html#isinstance) en este [enlace](https://www.w3schools.com/python/ref_func_isinstance.asp) o ejecutando el ejemplo a continucación: \n",
        "\n",
        "\n"
      ]
    },
    {
      "cell_type": "code",
      "metadata": {
        "id": "x7SjYbkaY9vO",
        "outputId": "fe7bf629-0c12-4af4-d16b-a40d20ada6de",
        "colab": {
          "base_uri": "https://localhost:8080/"
        }
      },
      "source": [
        "# ejemplo sobre como funciona isinstance\n",
        "\n",
        "marks = 90\n",
        "\n",
        "# quiero ver si marks es del tipo int, si lo es, entonces result = True\n",
        "result = isinstance(marks, int)\n",
        "\n",
        "if result :\n",
        "  print(\"Yes! la variable es del tipo int\")\n",
        "else:\n",
        "  print(\"No! la variable NO es del tipo int\")"
      ],
      "execution_count": 1,
      "outputs": [
        {
          "output_type": "stream",
          "text": [
            "Yes! la variable es del tipo int\n"
          ],
          "name": "stdout"
        }
      ]
    },
    {
      "cell_type": "markdown",
      "metadata": {
        "id": "IrEwMNKqgdLw"
      },
      "source": [
        "AYUDA: Para completar este ejercicio, tienes que:\n",
        " 1. iterar en un bcucle for sobre todas las keys del diccionario\n",
        " 2. comprobar que el valor asociado a cada una de las keys NO es un `str`\n",
        " 3. sumar aquellos valores que son `int` o `float`"
      ]
    },
    {
      "cell_type": "code",
      "metadata": {
        "id": "ot3p-dNmVoiK",
        "outputId": "252e576e-0881-46c3-c38e-c51ad6b53e34",
        "colab": {
          "base_uri": "https://localhost:8080/"
        }
      },
      "source": [
        "magic_dict = dict(val1=44, val2='secret value', val3=55.0, val4=1)\n",
        "\n",
        "# TODO:\n",
        "suma = 0\n",
        "\n",
        "for key in magic_dict:\n",
        "  isint = isinstance(magic_dict[key], int)\n",
        "  isfloat = isinstance(magic_dict[key], float)\n",
        "  if isint or isfloat:\n",
        "    suma += magic_dict[key]\n",
        "\n",
        "print(suma)\n",
        "\n"
      ],
      "execution_count": 4,
      "outputs": [
        {
          "output_type": "stream",
          "text": [
            "100.0\n"
          ],
          "name": "stdout"
        }
      ]
    },
    {
      "cell_type": "markdown",
      "metadata": {
        "id": "ULfxKlVzVoiV"
      },
      "source": [
        "Comprobemos que la implementación es correcta para el input dado:\n",
        "\n"
      ]
    },
    {
      "cell_type": "code",
      "metadata": {
        "id": "fyXTEwiyVoiY"
      },
      "source": [
        "assert suma == 100"
      ],
      "execution_count": 6,
      "outputs": []
    },
    {
      "cell_type": "markdown",
      "metadata": {
        "id": "Gm9_6v3CEqwj"
      },
      "source": [
        "## Ejercicio 11:\n",
        "\n",
        "Crea una función que devuelve la mediana de una lista de 3 números:\n",
        "\n",
        "NOTA: la mediana es el valor que esta en el centro de una lista ordenada de menor a mayor de números, por ejemplo:\n",
        "```python\n",
        "10, 33, 45, 54, 32, 45, 89 -> mediana = 54\n",
        "```\n",
        "\n",
        "NOTA2: para ordenar una lista en Python, echa un vistazo al método [sorted()](https://docs.python.org/es/3/howto/sorting.html).\n"
      ]
    },
    {
      "cell_type": "code",
      "metadata": {
        "id": "JN92OcWfEqwo"
      },
      "source": [
        "# TODO:\n",
        "def mediana(list):\n",
        "  sorted_list = sorted(list)\n",
        "  return sorted_list[1]\n"
      ],
      "execution_count": 7,
      "outputs": []
    },
    {
      "cell_type": "markdown",
      "metadata": {
        "id": "ZUO_WU_8Eqw1"
      },
      "source": [
        "Comprobemos que lo has hecho OK:"
      ]
    },
    {
      "cell_type": "code",
      "metadata": {
        "id": "59hQLEv7Eqw2"
      },
      "source": [
        "assert mediana([9, 10, 11]) == 10\n",
        "assert mediana([1, 5, 11]) == 5\n",
        "assert mediana([10, -100, 0]) == 0"
      ],
      "execution_count": 8,
      "outputs": []
    },
    {
      "cell_type": "markdown",
      "metadata": {
        "id": "T71adzJOHWpM"
      },
      "source": [
        "## Ejercicio 12:\n",
        "\n",
        "Crea una función que devuelve una lista con la sequencia de números ordenada de mayor a menor, por ejemplo:\n",
        "```\n",
        "cuenta_atras(4) -> [4, 3, 2, 1, 0]\n",
        "cuenta_atras(-3) -> [0, -1, -2, -3]\n",
        "```\n",
        "\n",
        "NOTA: para hacer el reverso de una lista, puedes usar lo siguiente:\n",
        "```python\n",
        "lista1 = [1, 2, 3]\n",
        "lista2 = lista1[::-1]\n",
        "print(lista2) # esto devuelve: [3, 2, 1]\n",
        "```\n"
      ]
    },
    {
      "cell_type": "code",
      "metadata": {
        "id": "Wc8fUwOcHWpT"
      },
      "source": [
        "# TODO:\n",
        "def reverseIfNegative(lista):\n",
        "  if lista[0] < 0:\n",
        "    lista = lista[::-1]\n",
        "  return lista\n",
        "\n",
        "def nextNumber(num):\n",
        "  if num < 0:\n",
        "    num += 1\n",
        "  else:\n",
        "    num -= 1\n",
        "  return num\n",
        "\n",
        "def cuenta_atras(num):\n",
        "  lista = []\n",
        "  \n",
        "  while num != 0:\n",
        "    lista.append(num)\n",
        "    num = nextNumber(num)  \n",
        "\n",
        "  lista.append(0)\n",
        "  lista = reverseIfNegative(lista)\n",
        "  \n",
        "  return lista"
      ],
      "execution_count": 59,
      "outputs": []
    },
    {
      "cell_type": "markdown",
      "metadata": {
        "id": "7owE0dVZHWpk"
      },
      "source": [
        "Comprobemos que lo has hecho OK:"
      ]
    },
    {
      "cell_type": "code",
      "metadata": {
        "id": "IGbzTRuYHWpm"
      },
      "source": [
        "assert cuenta_atras(0) == [0]\n",
        "assert cuenta_atras(-5) == [0, -1, -2, -3, -4, -5]\n",
        "assert cuenta_atras(5) == [5, 4, 3, 2, 1, 0]"
      ],
      "execution_count": 60,
      "outputs": []
    },
    {
      "cell_type": "markdown",
      "metadata": {
        "id": "bFyDo5PYINoF"
      },
      "source": [
        "## Ejercicio 13:\n",
        "\n",
        "Crea una función que devuelve la última y primera posición en la que aparece un caracter o cadena de caracteres en un texto, por ejemplo:\n",
        "```\n",
        "encuentra_ultimo('abba', 'a') -> [3, 0]\n",
        "```\n",
        "\n",
        "AYUDA: investiga los métodos de [string](https://docs.python.org/es/3/library/stdtypes.html#string-methods) `.find()` y `.rfind()` para ver si te puedes apoyar en algunos de los métodos ya construidos para esta operación.\n"
      ]
    },
    {
      "cell_type": "code",
      "metadata": {
        "id": "3J7KjibgINoL"
      },
      "source": [
        "# TODO:\n",
        "def encuentra_ultimo(texto, caracteres):\n",
        "    \n",
        "  "
      ],
      "execution_count": null,
      "outputs": []
    },
    {
      "cell_type": "markdown",
      "metadata": {
        "id": "O8z8caLyINoa"
      },
      "source": [
        "Comprobemos que lo has hecho OK:"
      ]
    },
    {
      "cell_type": "code",
      "metadata": {
        "id": "NP3Z3k0xINoc"
      },
      "source": [
        "assert encuentra_ultimo('abba', 'a') == [3, 0]\n",
        "assert encuentra_ultimo('aaviaavia', 'aa') == [4, 0]\n",
        "assert encuentra_ultimo('123412341234', '4') == [11, 3]"
      ],
      "execution_count": null,
      "outputs": []
    },
    {
      "cell_type": "markdown",
      "metadata": {
        "id": "p-HkLcodJzxH"
      },
      "source": [
        "## Ejercicio 14:\n",
        "\n",
        "Crea una función que imprime una tabla de multiplicación, por ejemplo:\n",
        "```\n",
        "print_multiplication_table(2)\n",
        "\n",
        "['1 x 1 = 1', '1 x 2 = 2', '2 x 1 = 2', '2 x 2 = 4']\n",
        "```\n",
        "\n"
      ]
    },
    {
      "cell_type": "code",
      "metadata": {
        "id": "UW1j-W5VJzxJ"
      },
      "source": [
        "# TODO:\n",
        "def print_multiplication_table(num):\n",
        "\n",
        "print_multiplication_table(1)\n",
        "  "
      ],
      "execution_count": null,
      "outputs": []
    },
    {
      "cell_type": "markdown",
      "metadata": {
        "id": "w5Ve9sM2JzxR"
      },
      "source": [
        "Comprobemos que lo has hecho OK:"
      ]
    },
    {
      "cell_type": "code",
      "metadata": {
        "id": "qFe5BbUZJzxS"
      },
      "source": [
        "assert print_multiplication_table(3) == ['1 x 1 = 1',  '1 x 2 = 2',  '1 x 3 = 3',  '2 x 1 = 2',  '2 x 2 = 4',  '2 x 3 = 6',  '3 x 1 = 3',  '3 x 2 = 6',  '3 x 3 = 9']\n",
        "assert print_multiplication_table(1) == ['1 x 1 = 1']"
      ],
      "execution_count": null,
      "outputs": []
    },
    {
      "cell_type": "markdown",
      "metadata": {
        "id": "z-VpWOCMTl6t"
      },
      "source": [
        "## Ejercicio 15:\n",
        "\n",
        "Completa la siguiente función rellenando los huecos `___`:\n",
        "\n",
        "\n"
      ]
    },
    {
      "cell_type": "code",
      "metadata": {
        "id": "ixH5qAlwTl6z"
      },
      "source": [
        "____ count_even_numbers(numbers):\n",
        "    count = 0\n",
        "    for num in ____:\n",
        "        if ____ % 2 == ____:\n",
        "            count += ____\n",
        "    _____ _____"
      ],
      "execution_count": null,
      "outputs": []
    },
    {
      "cell_type": "markdown",
      "metadata": {
        "id": "JtY0p5h1Tl6_"
      },
      "source": [
        "Comprobemos que has realizado el ejercicio OK:\n"
      ]
    },
    {
      "cell_type": "code",
      "metadata": {
        "id": "A4TZDremTl7A"
      },
      "source": [
        "assert count_even_numbers([1, 2, 3, 4, 5, 6]) == 3\n",
        "assert count_even_numbers([1, 3, 5, 7]) == 0\n",
        "assert count_even_numbers([-2, 2, -10, 8]) == 4"
      ],
      "execution_count": null,
      "outputs": []
    },
    {
      "cell_type": "markdown",
      "metadata": {
        "id": "J6grou3ITl7I"
      },
      "source": [
        "## Ejercicio 16:\n",
        "\n",
        "Crea una función que se llame `promedio_size_palabras` y que devuelve el tamaño medio de las palabras que hay en un texto. Por ejemplo:\n",
        "```python\n",
        "# la media de una palabra de 4 caracteres ('hola') + otra de 2 caracteres ('es') es 3:\n",
        "promedio_size_palabras('hola es', ' ') -> 3\n",
        "```\n",
        "\n",
        "IMPORTANTE: las palabras pueden venir separadas por los siguientes separadores: ` `, `|`, `***`. Con lo cual, la función debe tener un argumento para gestionar esas situaciones.\n",
        "\n",
        "IMPORTANTE2: La función solo puede devolver un decimal como máximo, para ello tienes que usar la función [round()](https://www.w3schools.com/python/ref_func_round.asp):\n",
        " * `round(3.7745, 1)` -> 3.7\n",
        "\n",
        "\n"
      ]
    },
    {
      "cell_type": "code",
      "metadata": {
        "id": "Unwnykx7Tl7J"
      },
      "source": [
        "# TODO:\n",
        "def promedio_size_palabras(texto, separador):\n",
        "    "
      ],
      "execution_count": null,
      "outputs": []
    },
    {
      "cell_type": "markdown",
      "metadata": {
        "id": "dOBDC_KbTl7M"
      },
      "source": [
        "Comprobemos que has realizado el ejercicio OK:\n"
      ]
    },
    {
      "cell_type": "code",
      "metadata": {
        "id": "KcdZoRuOTl7N"
      },
      "source": [
        "assert promedio_size_palabras('only four lett erwo rdss', ' ') == 4\n",
        "assert promedio_size_palabras('one***two***three', '***') == 3.7\n",
        "assert promedio_size_palabras('one|two|three|four', '|') == 3.8\n",
        "assert promedio_size_palabras('', '') == 0"
      ],
      "execution_count": null,
      "outputs": []
    },
    {
      "cell_type": "markdown",
      "metadata": {
        "id": "38E3yzyjVC2p"
      },
      "source": [
        "## Ejercicio 17:\n",
        "\n",
        "Arregla la siguiente función de manera que se cumpla:\n",
        "```\n",
        "procesamiento(12, 'hola') == 'hola'\n",
        "procesamiento(15, 'adla') == 'positive number'\n",
        "procesamiento(-15, 'ñora') == 'ñora-8'\n",
        "procesamiento(-1, 'Año') == 'oñ'\n",
        "procesamiento(-1, 'alla') == 'adios'\n",
        "procesamiento(5, 'españa') == 'eeeee'\n",
        "procesamiento(15, 'españa') == 'españa'\n",
        "```\n",
        "\n",
        "Tienes que sustituir los campos `___` por lo que corresponda.\n",
        "\n"
      ]
    },
    {
      "cell_type": "code",
      "metadata": {
        "id": "XUOG2JqKVC2t"
      },
      "source": [
        "# TODO\n",
        "def procesamiento(num, texto):\n",
        "    if num < 0:\n",
        "        num += 7\n",
        "        if 'o' in texto and num >= 0:\n",
        "            return texto[::-1][:2] \n",
        "        elif num >= 0:\n",
        "            return ___\n",
        "        else:\n",
        "            return texto + str(num) \n",
        "    elif texto[:2] == 'ad':\n",
        "        if num > 0 or num == 0:\n",
        "            return ___\n",
        "    else:\n",
        "        if 'ñ' in texto:\n",
        "            if num > 10:\n",
        "                return texto\n",
        "            return texto[0]*num\n",
        "        else:\n",
        "            return ___\n",
        "\n",
        "procesamiento(12, 'hola')\n",
        "  "
      ],
      "execution_count": null,
      "outputs": []
    },
    {
      "cell_type": "markdown",
      "metadata": {
        "id": "Rqg4pTyEVC28"
      },
      "source": [
        "Comprobemos que la implementación es correcta para el input dado:\n",
        "\n"
      ]
    },
    {
      "cell_type": "code",
      "metadata": {
        "id": "T_SMigOvVC2-"
      },
      "source": [
        "assert procesamiento(12, 'hola') == 'hola'\n",
        "assert procesamiento(15, 'adla') == 'positive number'\n",
        "assert procesamiento(-15, 'ñora') == 'ñora-8'\n",
        "assert procesamiento(-1, 'Año') == 'oñ'\n",
        "assert procesamiento(-1, 'alla') == 'adios'\n",
        "assert procesamiento(5, 'españa') == 'eeeee'\n",
        "assert procesamiento(15, 'españa') == 'españa'"
      ],
      "execution_count": null,
      "outputs": []
    },
    {
      "cell_type": "markdown",
      "metadata": {
        "id": "N5-rCe-xVC3C"
      },
      "source": [
        "## Ejercicio 18:\n",
        "\n",
        "Crea una función que devuelva un diccionario donde las `keys` son los elementos únicos que hay en la lista y los valores asociados, el número de veces que aparecen repetidos. Por ejemplo:\n",
        "```\n",
        "summary(['hola', 'hola', 'adios']) -> {'hola': 2, 'adios': 1}\n",
        "```\n",
        "\n",
        "\n"
      ]
    },
    {
      "cell_type": "code",
      "metadata": {
        "id": "ORC7BReMVC3D"
      },
      "source": [
        "# TODO\n",
        "def summary  "
      ],
      "execution_count": null,
      "outputs": []
    },
    {
      "cell_type": "markdown",
      "metadata": {
        "id": "lEDlZOfzVC3H"
      },
      "source": [
        "Comprobemos que la implementación es correcta para el input dado:\n",
        "\n"
      ]
    },
    {
      "cell_type": "code",
      "metadata": {
        "id": "4k90kptGVC3I"
      },
      "source": [
        "assert summary(['hola', 'hola', 'adios']) == {'hola': 2, 'adios': 1}\n",
        "assert summary(['a', 'b', 'b', 'a', 'c']) == {'a': 2, 'c': 1, 'b': 2}"
      ],
      "execution_count": null,
      "outputs": []
    },
    {
      "cell_type": "markdown",
      "metadata": {
        "id": "3vrg3sBZOPFw"
      },
      "source": [
        "## Ejercicio 19:\n",
        "\n",
        "Crea funciones lambda (`lambda_F` y `lambda_C`) a partir de estas funciones que convierten temperaturas entre sistemas de unidades:\n",
        "```python\n",
        "def fahrenheit(T):\n",
        "    return ((float(9)/5)*T + 32)\n",
        " \n",
        "def celsius(T):\n",
        "    return (float(5)/9)*(T-32)\n",
        "```\n",
        "\n",
        "y a continuación, usa `map` para convertir listas de temperaturas de celsius a fahrenheits y viceversa. Por ejemplo:\n",
        "```python\n",
        "C = [39.2, 36.5, 37.3, 38, 37.8] \n",
        "F = list(map(lambda_F, C))\n",
        "print(F)\n",
        "\n",
        "# output: [102.56, 97.7, 99.14, 100.4, 100.03999999999999]\n",
        "```\n",
        "\n"
      ]
    },
    {
      "cell_type": "code",
      "metadata": {
        "id": "3TfG-4TFQTZT"
      },
      "source": [
        "# TODO:\n",
        "lambda_C = \n",
        "lambda_F ="
      ],
      "execution_count": null,
      "outputs": []
    },
    {
      "cell_type": "markdown",
      "metadata": {
        "id": "Lkb0qIeSOPGG"
      },
      "source": [
        "Comprobemos que lo has hecho OK:"
      ]
    },
    {
      "cell_type": "code",
      "metadata": {
        "id": "_4rmwiogOPGH"
      },
      "source": [
        "assert list(map(lambda_F, [39.2, 36.5, 37.3, 38, 37.8])) == [102.56, 97.7, 99.14, 100.4, 100.03999999999999]\n",
        "assert list(map(lambda_C, [100, 110, 120 , 140])) == [37.77777777777778, 43.333333333333336, 48.88888888888889, 60.0]"
      ],
      "execution_count": null,
      "outputs": []
    },
    {
      "cell_type": "markdown",
      "metadata": {
        "id": "DjCJV4XzL_CD"
      },
      "source": [
        "## Ejercicio 20:\n",
        "\n",
        "Utiliza los operadores reduce y lambda para concatenar cadenas de texto. Por ejemplo:\n",
        "```\n",
        "input: ['hola', 'que', 'tal', 'estas'] -> output: 'holaquetalestas'\n",
        "input: ['me', 'gusta', 'python'] -> output: 'megustapython'\n",
        "```\n",
        "\n"
      ]
    },
    {
      "cell_type": "code",
      "metadata": {
        "id": "oxDuq0hfL_CK"
      },
      "source": [
        "import functools\n",
        "\n",
        "input = ['adios', 'hola', 'adios']\n",
        "j = #TODO\n",
        "  "
      ],
      "execution_count": null,
      "outputs": []
    },
    {
      "cell_type": "markdown",
      "metadata": {
        "id": "OBVbwRVNTs0o"
      },
      "source": [
        "Comprobemos que la implementación es correcta para el input dado:\n",
        "\n"
      ]
    },
    {
      "cell_type": "code",
      "metadata": {
        "id": "6LO95a6ITs-M"
      },
      "source": [
        "assert j == 'adiosholaadios'"
      ],
      "execution_count": null,
      "outputs": []
    },
    {
      "cell_type": "markdown",
      "metadata": {
        "id": "axP_03iSQPv5"
      },
      "source": [
        "## Ejercicio 21:\n",
        "\n",
        "A continuación, tienes que encontrar los 3 errores que tiene el siguiente código para que funcione.\n",
        "\n",
        "La función debe arrojar los siguientes resultados:\n",
        "```python\n",
        "crea_diccionario(['a', 'b', 'c'], [1, 2, 3]) -> {'a': 1, 'b': 6, 'c': 7}\n",
        "crea_diccionario(['Python', 'is', 'Great!'], [-10, 0, 10]) -> {'Great!': 14, 'Python': -10, 'is': 0}\n",
        "crea_diccionario(['hola', 'que', 'tal', 'estas?'], [0, 1, 2, 3]) -> {'estas?': 7, 'hola': 0, 'que': 1, 'tal': 6}\n",
        "```\n",
        "\n",
        "\n"
      ]
    },
    {
      "cell_type": "code",
      "metadata": {
        "id": "DN_mHb0eQPv_"
      },
      "source": [
        "# TODO: identifica los 3 errores en la función:\n",
        "def crea_diccionario(llaves, valores):\n",
        "    resultado = []\n",
        "    for idx, llave in enumerate(llaves):\n",
        "        valor = valores[idx]\n",
        "        if valor == 2:\n",
        "             resultado[llave] = valor + 4\n",
        "        else:\n",
        "        resultado[llave] = valor\n",
        "    return resultado   "
      ],
      "execution_count": null,
      "outputs": []
    },
    {
      "cell_type": "markdown",
      "metadata": {
        "id": "JjlMbFLJQPwU"
      },
      "source": [
        "Comprobemos que has realizado el ejercicio OK:\n"
      ]
    },
    {
      "cell_type": "code",
      "metadata": {
        "id": "FLcdk3wfQPwV"
      },
      "source": [
        "assert crea_diccionario(['a', 'b', 'c'], [1, 2, 3]) == {'a': 1, 'b': 6, 'c': 7}\n",
        "assert crea_diccionario(['Python', 'is', 'Great!'], [-10, 0, 10]) == {'Great!': 14, 'Python': -10, 'is': 0}\n",
        "assert crea_diccionario(['hola', 'que', 'tal', 'estas?'], [0, 1, 2, 3]) == {'estas?': 7, 'hola': 0, 'que': 1, 'tal': 6}"
      ],
      "execution_count": null,
      "outputs": []
    },
    {
      "cell_type": "markdown",
      "metadata": {
        "id": "8aaP4nEOWW7u"
      },
      "source": [
        "## Ejercicio 22:\n",
        "\n",
        "Completa los `___` en el código a continuación. La función `sum_of_list` debe sumar todos los elementos en una lista y cuando alguno de estos elementos no es numérico, debe ignorarlo y continuar:\n",
        "\n",
        "\n"
      ]
    },
    {
      "cell_type": "code",
      "metadata": {
        "id": "ZQEXICHpWW73"
      },
      "source": [
        "# TODO: \n",
        "def sum_of_list(values):\n",
        "    ____ = 0\n",
        "    for val in values:\n",
        "        ____:\n",
        "            numeric_val = float(val)\n",
        "        ____ ____ as e:\n",
        "            ____\n",
        "        ____ += numeric_val\n",
        "    return ____ "
      ],
      "execution_count": null,
      "outputs": []
    },
    {
      "cell_type": "markdown",
      "metadata": {
        "id": "aVHjNZdYWW8G"
      },
      "source": [
        "Comprobemos que has realizado el ejercicio OK:\n"
      ]
    },
    {
      "cell_type": "code",
      "metadata": {
        "id": "4Pgb8-WFWW8I"
      },
      "source": [
        "list1 = [1, 2, 3]\n",
        "list2 = ['1', 2.5, '3.0']\n",
        "list3 = ['', '1']\n",
        "list4 = []\n",
        "list5 = ['John', 'Doe', 'was', 'here']\n",
        "\n",
        "assert sum_of_list(list1) == 6\n",
        "assert sum_of_list(list2) == 6.5\n",
        "assert sum_of_list(list3) == 1\n",
        "assert sum_of_list(list4) == 0\n",
        "assert sum_of_list(list5) == 0"
      ],
      "execution_count": null,
      "outputs": []
    }
  ]
}