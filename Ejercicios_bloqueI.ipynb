{
  "nbformat": 4,
  "nbformat_minor": 0,
  "metadata": {
    "colab": {
      "name": "Ejercicios_bloqueI.ipynb",
      "provenance": [],
      "collapsed_sections": [
        "J5sRxCIHIhr0",
        "H6uX4LrQLGjI",
        "Uvb0j_J8OPhO",
        "LPr01duUUdmg",
        "p6XWL1N9UdmF",
        "f0nnuaIDUdmq",
        "RPdKTw28VfJM",
        "jrm7GnJmc6Dp",
        "rwq3SWaLVoiG",
        "Gm9_6v3CEqwj",
        "bFyDo5PYINoF",
        "p-HkLcodJzxH",
        "z-VpWOCMTl6t",
        "J6grou3ITl7I",
        "38E3yzyjVC2p",
        "N5-rCe-xVC3C",
        "3vrg3sBZOPFw",
        "axP_03iSQPv5",
        "8aaP4nEOWW7u"
      ],
      "include_colab_link": true
    },
    "kernelspec": {
      "name": "python3",
      "display_name": "Python 3"
    }
  },
  "cells": [
    {
      "cell_type": "markdown",
      "metadata": {
        "id": "view-in-github",
        "colab_type": "text"
      },
      "source": [
        "<a href=\"https://colab.research.google.com/github/carlosbourque/curso-python/blob/master/Ejercicios_bloqueI.ipynb\" target=\"_parent\"><img src=\"https://colab.research.google.com/assets/colab-badge.svg\" alt=\"Open In Colab\"/></a>"
      ]
    },
    {
      "cell_type": "markdown",
      "metadata": {
        "id": "3dsZmd3tHx6p",
        "colab_type": "text"
      },
      "source": [
        "# Bloque I\n",
        "\n",
        "A continuación, se incluye una serie de ejercicios relativos al primer bloque del curso.\n",
        "\n",
        "**NOTA:**\n",
        "Todos los ejercicios se estructuran de la siguiente forma:\n",
        "\n",
        "\n",
        "1.   Enunciado: Se expone lo que se requiere hacer\n",
        "2.   Tu Implementación: Celda de código para que resuelvas el ejercicio\n",
        "3.   Validación: se usa el método `assert` para comprobar que has completado el ejercicio correctamente.\n",
        "\n",
        "¿Como funciona `assert`?\n",
        "Este método evalua una igualdad, por ejemplo si realizamos la siguiente igualdad:\n",
        "```\n",
        "1 == 1\n",
        "```\n",
        "El resultado de `assert` será True y por lo tanto OK.\n",
        "Sin embargo, para la siguiente igualdad:\n",
        "```\n",
        "1 == 2\n",
        "```\n",
        "`assert` devolverá [`AssertionError`](https://docs.python.org/3/library/exceptions.html#AssertionError), por lo tanto el ejercicio no está correctamente resuelto y tenemos que seguir trabajando en él.\n"
      ]
    },
    {
      "cell_type": "markdown",
      "metadata": {
        "id": "J5sRxCIHIhr0",
        "colab_type": "text"
      },
      "source": [
        "## Ejercicio 1\n",
        "\n",
        "Sustituye los espacios `____` por los siguientes métodos de `string`:\n",
        " * `lower_cased`\n",
        " * `stripped` \n",
        " * `stripped_lower_case` \n"
      ]
    },
    {
      "cell_type": "code",
      "metadata": {
        "id": "dSoV5qPRKFBY",
        "colab_type": "code",
        "colab": {}
      },
      "source": [
        "original = ' Python strings are COOL! '\n",
        "lower_cased = original.lower()\n",
        "stripped = original.strip()\n",
        "stripped_lower_cased = original.strip().lower()"
      ],
      "execution_count": null,
      "outputs": []
    },
    {
      "cell_type": "markdown",
      "metadata": {
        "id": "zcySCLyHKJBm",
        "colab_type": "text"
      },
      "source": [
        "Vamos a comprobar que los resultados son correctos si al ejecutar la siguiente celda se lanzan `AssertionError` si alguna de las funciones no son iguales."
      ]
    },
    {
      "cell_type": "code",
      "metadata": {
        "id": "eNahmsGdKft1",
        "colab_type": "code",
        "colab": {}
      },
      "source": [
        "assert lower_cased == ' python strings are cool! '\n",
        "assert stripped == 'Python strings are COOL!'\n",
        "assert stripped_lower_cased == 'python strings are cool!'"
      ],
      "execution_count": null,
      "outputs": []
    },
    {
      "cell_type": "markdown",
      "metadata": {
        "id": "H6uX4LrQLGjI",
        "colab_type": "text"
      },
      "source": [
        "## Ejercicio 2:\n",
        "\n",
        "Usa los métodos de str (que puedes consultar [aquí](https://docs.python.org/es/3/library/stdtypes.html#string-methods)) para transformar `ugly` en `pretty`\n",
        "\n",
        "\n",
        "\n",
        "\n",
        "\n",
        "\n",
        "\n",
        "\n",
        "\n",
        "\n",
        "\n",
        "\n",
        "\n",
        "\n"
      ]
    },
    {
      "cell_type": "code",
      "metadata": {
        "id": "6K0MPEWtMaBX",
        "colab_type": "code",
        "colab": {}
      },
      "source": [
        "ugly = ' tiTle of MY new Book\\n\\n'\n",
        "\n",
        "# Your implementation:\n",
        "pretty = ugly.title().replace('\\n', '').strip()"
      ],
      "execution_count": null,
      "outputs": []
    },
    {
      "cell_type": "markdown",
      "metadata": {
        "id": "Z-8QIfiLMf7o",
        "colab_type": "text"
      },
      "source": [
        "Vamos a asegurarnos que lo hemos hecho bien. Para ello usamos [`AssertionError`](https://docs.python.org/3/library/exceptions.html#AssertionError) si el `assert`no es `True`.\n",
        "\n"
      ]
    },
    {
      "cell_type": "code",
      "metadata": {
        "id": "ps6aFziXMgvU",
        "colab_type": "code",
        "colab": {
          "base_uri": "https://localhost:8080/",
          "height": 35
        },
        "outputId": "bc5ea8a5-b543-4778-c5d3-3755d32ece76"
      },
      "source": [
        "print('pretty: {}'.format(pretty))\n",
        "assert pretty == 'Title Of My New Book'"
      ],
      "execution_count": null,
      "outputs": [
        {
          "output_type": "stream",
          "text": [
            "pretty: Title Of My New Book\n"
          ],
          "name": "stdout"
        }
      ]
    },
    {
      "cell_type": "markdown",
      "metadata": {
        "id": "Uvb0j_J8OPhO",
        "colab_type": "text"
      },
      "source": [
        "## Ejercicio 3\n",
        "\n",
        "Crea la siguiente fórmula en Python:\n",
        "\\begin{align}\n",
        " result = 6a^3 - \\frac{8b^2 }{4c} + 11\n",
        "\\end{align}"
      ]
    },
    {
      "cell_type": "code",
      "metadata": {
        "id": "FbAwlD0pOaWW",
        "colab_type": "code",
        "colab": {}
      },
      "source": [
        "a = 2\n",
        "b = 3\n",
        "c = 2\n",
        "\n",
        "result = (6 * (a ** 3)) - ((8 * (b**2))/(4 * c)) + 11"
      ],
      "execution_count": null,
      "outputs": []
    },
    {
      "cell_type": "markdown",
      "metadata": {
        "id": "yL_Xd4yGSVXH",
        "colab_type": "text"
      },
      "source": [
        "Comprobemos que los has hecho OK:"
      ]
    },
    {
      "cell_type": "code",
      "metadata": {
        "id": "vxsyhyhUSV9G",
        "colab_type": "code",
        "colab": {}
      },
      "source": [
        "assert result == 50"
      ],
      "execution_count": null,
      "outputs": []
    },
    {
      "cell_type": "markdown",
      "metadata": {
        "colab_type": "text",
        "id": "LPr01duUUdmg"
      },
      "source": [
        "## Ejercicio 4:\n",
        "\n",
        "A continuación, rellena los huecos `___`:\n",
        "\n",
        "AYUDA: Visita la [documentación de Python](https://docs.python.org/es/3/tutorial/datastructures.html) donde podrás consultar todos los métodos disponibles para las listas.\n",
        "\n",
        "\n"
      ]
    },
    {
      "cell_type": "code",
      "metadata": {
        "colab_type": "code",
        "id": "IcTcMj8MUdmh",
        "colab": {}
      },
      "source": [
        "# Crea una lista vacia:\n",
        "my_list = []\n",
        "\n",
        "# Añade los siguientes valores a tu lista:\n",
        "my_list.append('Python')\n",
        "my_list.append('is ok')\n",
        "my_list.append('sometimes')\n",
        "\n",
        "# Elimina el elemento cuyo valor es: 'sometimes'\n",
        "my_list.remove('sometimes')\n",
        "\n",
        "# Modifica el segundo elemento:\n",
        "my_list[1] = 'is neat'"
      ],
      "execution_count": null,
      "outputs": []
    },
    {
      "cell_type": "markdown",
      "metadata": {
        "colab_type": "text",
        "id": "xZT6mYaFUdml"
      },
      "source": [
        "Comprobemos que has realizado el ejercicio OK:\n",
        "\n",
        "\n"
      ]
    },
    {
      "cell_type": "code",
      "metadata": {
        "colab_type": "code",
        "id": "A42ycCs3Udmm",
        "colab": {}
      },
      "source": [
        "assert my_list == ['Python', 'is neat']"
      ],
      "execution_count": null,
      "outputs": []
    },
    {
      "cell_type": "markdown",
      "metadata": {
        "colab_type": "text",
        "id": "p6XWL1N9UdmF"
      },
      "source": [
        "## Ejercicio 5:\n",
        "\n",
        "Crea una lista de `string` a partir de una lista de números utilizando el siguiente criterio:\n",
        "\n",
        "\n",
        "*   Si el número es múltiplo de 5 e impar, el valor del `string` debe ser 'five odd'\n",
        "*   Si el número es múltiplo de 5 y par, el valor del `string` debe ser 'five even'\n",
        "\n",
        "*   Si el número es impar, el valor del `string` debe ser 'odd'\n",
        "*   Si el número es par, el valor del `string` debe ser 'even'\n",
        "\n",
        "\n",
        "NOTA: Para crear dicha lista tendrás que iterar en un bucle for, evaluar el valor de cada elemento y sustituirlo por su valor correspondiente en base a unas sentencias if. \n",
        "\n",
        "\n",
        "\n",
        "\n",
        "\n",
        "\n",
        "\n",
        "\n"
      ]
    },
    {
      "cell_type": "code",
      "metadata": {
        "colab_type": "code",
        "id": "BcIjP3GFUdmJ",
        "colab": {
          "base_uri": "https://localhost:8080/",
          "height": 35
        },
        "outputId": "13493528-a7a6-4a73-8135-be68465f2e0a"
      },
      "source": [
        "numbers = [1, 3, 4, 6, 81, 80, 100, 95]\n",
        "\n",
        "\n",
        "# TODO:\n",
        "my_list = []\n",
        "\n",
        "for number in numbers:\n",
        "  if number % 2 == 1:\n",
        "    value = 'odd'\n",
        "  else:\n",
        "    value = 'even'\n",
        "\n",
        "  if number % 5 == 0:\n",
        "    value = 'five ' + value\n",
        "  \n",
        "  my_list.append(value)\n",
        "\n",
        "\n",
        "\n",
        "my_list"
      ],
      "execution_count": 30,
      "outputs": [
        {
          "output_type": "execute_result",
          "data": {
            "text/plain": [
              "['odd', 'odd', 'even', 'even', 'odd', 'five even', 'five even', 'five odd']"
            ]
          },
          "metadata": {
            "tags": []
          },
          "execution_count": 30
        }
      ]
    },
    {
      "cell_type": "markdown",
      "metadata": {
        "colab_type": "text",
        "id": "5vb96t2RUdmW"
      },
      "source": [
        "Comprobemos que la implementación es correcta para el input dado:\n",
        "\n"
      ]
    },
    {
      "cell_type": "code",
      "metadata": {
        "colab_type": "code",
        "id": "bnKh8AbAUdmY",
        "colab": {}
      },
      "source": [
        "assert my_list == ['odd', 'odd', 'even', 'even', 'odd', 'five even', 'five even', 'five odd']"
      ],
      "execution_count": 31,
      "outputs": []
    },
    {
      "cell_type": "markdown",
      "metadata": {
        "colab_type": "text",
        "id": "f0nnuaIDUdmq"
      },
      "source": [
        "## Ejercicio 6:\n",
        "\n",
        "Mergea las siguientes listas para formar una sola y ordenala de mayor a menor:\n",
        "\n",
        "\n"
      ]
    },
    {
      "cell_type": "code",
      "metadata": {
        "colab_type": "code",
        "id": "VHP3Nmo6Udmq",
        "colab": {}
      },
      "source": [
        "list1 = [6, 12, 5]\n",
        "list2 = [6.2, 0, 14, 1]\n",
        "list3 = [0.9]"
      ],
      "execution_count": 33,
      "outputs": []
    },
    {
      "cell_type": "code",
      "metadata": {
        "colab_type": "code",
        "id": "2mC1m-IbUdmu",
        "colab": {
          "base_uri": "https://localhost:8080/",
          "height": 35
        },
        "outputId": "f5aa25f8-c478-41f8-f6b2-021e95e01b36"
      },
      "source": [
        "# TODO:\n",
        "my_list = list1 + list2 + list3\n",
        "my_list.sort(reverse=True)\n",
        "\n",
        "my_list"
      ],
      "execution_count": 42,
      "outputs": [
        {
          "output_type": "execute_result",
          "data": {
            "text/plain": [
              "[14, 12, 6.2, 6, 5, 1, 0.9, 0]"
            ]
          },
          "metadata": {
            "tags": []
          },
          "execution_count": 42
        }
      ]
    },
    {
      "cell_type": "markdown",
      "metadata": {
        "colab_type": "text",
        "id": "NS6wnG1UUdmx"
      },
      "source": [
        "Comprobemos que has realizado el ejercicio OK:\n"
      ]
    },
    {
      "cell_type": "code",
      "metadata": {
        "colab_type": "code",
        "id": "ufoWbNWUUdmy",
        "colab": {
          "base_uri": "https://localhost:8080/",
          "height": 35
        },
        "outputId": "64fc74f8-06c1-4f97-cbbc-6dbc691be963"
      },
      "source": [
        "print(my_list)\n",
        "assert my_list == [14, 12, 6.2, 6, 5, 1, 0.9, 0]"
      ],
      "execution_count": 43,
      "outputs": [
        {
          "output_type": "stream",
          "text": [
            "[14, 12, 6.2, 6, 5, 1, 0.9, 0]\n"
          ],
          "name": "stdout"
        }
      ]
    },
    {
      "cell_type": "markdown",
      "metadata": {
        "colab_type": "text",
        "id": "RPdKTw28VfJM"
      },
      "source": [
        "## Ejercicio 7:\n",
        "\n",
        "Rellena los `___` del siguiente código:\n",
        "\n",
        "\n"
      ]
    },
    {
      "cell_type": "code",
      "metadata": {
        "colab_type": "code",
        "id": "cuiDUgmbVfJQ",
        "colab": {}
      },
      "source": [
        "words = ['PYTHON', 'JOHN', 'chEEse', 'hAm', 'DOE', '123']\n",
        "upper_case_words = []\n",
        "\n",
        "for word in words:\n",
        "    if word.isupper():\n",
        "        upper_case_words.append(word) "
      ],
      "execution_count": 44,
      "outputs": []
    },
    {
      "cell_type": "markdown",
      "metadata": {
        "colab_type": "text",
        "id": "jp0Zd-lbVfJe"
      },
      "source": [
        "Comprobemos que la implementación es correcta para el input dado:\n",
        "\n"
      ]
    },
    {
      "cell_type": "code",
      "metadata": {
        "colab_type": "code",
        "id": "3COVBbXzVfJf",
        "colab": {}
      },
      "source": [
        "assert upper_case_words == ['PYTHON', 'JOHN', 'DOE']"
      ],
      "execution_count": 45,
      "outputs": []
    },
    {
      "cell_type": "markdown",
      "metadata": {
        "id": "jrm7GnJmc6Dp",
        "colab_type": "text"
      },
      "source": [
        "## Ejercicio 8:\n",
        "\n",
        "Crea tu primer diccionario a partir de estos campos:\n",
        "```\n",
        "first_name = 'John'\n",
        "last_name = 'Doe'\n",
        "favorite_hobby = 'Python'\n",
        "sports_hobby = 'gym'\n",
        "age = 82\n",
        "```\n"
      ]
    },
    {
      "cell_type": "code",
      "metadata": {
        "id": "QNtkaKwpdCEH",
        "colab_type": "code",
        "colab": {
          "base_uri": "https://localhost:8080/",
          "height": 35
        },
        "outputId": "0ea066da-436e-4e99-e312-c42978df3cf5"
      },
      "source": [
        "first_name = 'John'\n",
        "last_name = 'Doe'\n",
        "favorite_hobby = 'Python'\n",
        "sports_hobby = 'gym'\n",
        "age = 82\n",
        "\n",
        "my_dict = { 'name' : first_name + ' ' + last_name, 'age' : age, 'hobbies' : [favorite_hobby, sports_hobby] }\n",
        "\n",
        "print(my_dict)"
      ],
      "execution_count": 50,
      "outputs": [
        {
          "output_type": "stream",
          "text": [
            "{'name': 'John Doe', 'age': 82, 'hobbies': ['Python', 'gym']}\n"
          ],
          "name": "stdout"
        }
      ]
    },
    {
      "cell_type": "markdown",
      "metadata": {
        "id": "JSA5eW1odIbo",
        "colab_type": "text"
      },
      "source": [
        "Comprobemos que lo has hecho OK:"
      ]
    },
    {
      "cell_type": "code",
      "metadata": {
        "id": "TqqJXdIcdIoO",
        "colab_type": "code",
        "colab": {}
      },
      "source": [
        "assert my_dict == {\n",
        "        'name': 'John Doe',\n",
        "        'age': 82,\n",
        "        'hobbies': ['Python', 'gym']\n",
        "    }"
      ],
      "execution_count": 51,
      "outputs": []
    },
    {
      "cell_type": "markdown",
      "metadata": {
        "colab_type": "text",
        "id": "AhKml0Wcehg0"
      },
      "source": [
        "## Ejercicio 9:\n",
        "\n",
        "Combina ` dict2` y `dict3` en` my_dict`. \n",
        "\n",
        "Además, a partir del valor de `special_key` de` my_dict`, crea una variable que se llame `special_value`. \n",
        "\n",
        "Tenga en cuenta que los diccionarios originales deben permanecer intactos y la `special_key` debe eliminarse de` my_dict`.\n",
        "\n",
        "\n"
      ]
    },
    {
      "cell_type": "code",
      "metadata": {
        "id": "NFDYR8SvE0Ye",
        "colab_type": "code",
        "colab": {}
      },
      "source": [
        "# Distintas formas de iniciar diccionarios:\n",
        "dict2 = {'key1': 123, 'special_key': 'secret'}\n",
        "dict3 = dict([('key2', 456), ('keyX', 'X')])"
      ],
      "execution_count": 52,
      "outputs": []
    },
    {
      "cell_type": "code",
      "metadata": {
        "colab_type": "code",
        "id": "Hw62IuiRehg7",
        "colab": {
          "base_uri": "https://localhost:8080/",
          "height": 52
        },
        "outputId": "b0877c29-791c-4d97-8e9a-008c2808d400"
      },
      "source": [
        "# TODO:\n",
        "my_dict = dict2.copy()\n",
        "my_dict.update(dict3)\n",
        "\n",
        "special_value = my_dict.pop('special_key')\n",
        "\n",
        "print(my_dict)\n",
        "print(special_value)\n"
      ],
      "execution_count": 60,
      "outputs": [
        {
          "output_type": "stream",
          "text": [
            "{'key1': 123, 'key2': 456, 'keyX': 'X'}\n",
            "secret\n"
          ],
          "name": "stdout"
        }
      ]
    },
    {
      "cell_type": "markdown",
      "metadata": {
        "colab_type": "text",
        "id": "q0LlEwDPehhH"
      },
      "source": [
        "Comprobemos que lo has hecho OK:"
      ]
    },
    {
      "cell_type": "code",
      "metadata": {
        "colab_type": "code",
        "id": "hmptZYXtehhI",
        "colab": {}
      },
      "source": [
        "assert my_dict == {'key1': 123, 'key2': 456, 'keyX': 'X'}\n",
        "assert special_value == 'secret'\n",
        "\n",
        "# comprobemos que los originales no se han modificado:\n",
        "assert dict2 == {'key1': 123, 'special_key': 'secret'}\n",
        "assert dict3 == {'key2': 456, 'keyX': 'X'}"
      ],
      "execution_count": 61,
      "outputs": []
    },
    {
      "cell_type": "markdown",
      "metadata": {
        "colab_type": "text",
        "id": "rwq3SWaLVoiG"
      },
      "source": [
        "## Ejercicio 10:\n",
        "\n",
        "Calcula la suma de los valores numericos de `magic_dict`. \n",
        "\n",
        "NOTA: echa un vistazo al método de Python [isinstance](https://docs.python.org/3/library/functions.html#isinstance). \n",
        "\n",
        "\n"
      ]
    },
    {
      "cell_type": "code",
      "metadata": {
        "colab_type": "code",
        "id": "ot3p-dNmVoiK",
        "colab": {}
      },
      "source": [
        "magic_dict = dict(val1=44, val2='secret value', val3=55.0, val4=1)\n",
        "\n",
        "# TODO:\n",
        "suma = "
      ],
      "execution_count": null,
      "outputs": []
    },
    {
      "cell_type": "markdown",
      "metadata": {
        "colab_type": "text",
        "id": "ULfxKlVzVoiV"
      },
      "source": [
        "Comprobemos que la implementación es correcta para el input dado:\n",
        "\n"
      ]
    },
    {
      "cell_type": "code",
      "metadata": {
        "colab_type": "code",
        "id": "fyXTEwiyVoiY",
        "colab": {}
      },
      "source": [
        "assert suma == 100"
      ],
      "execution_count": null,
      "outputs": []
    },
    {
      "cell_type": "markdown",
      "metadata": {
        "colab_type": "text",
        "id": "Gm9_6v3CEqwj"
      },
      "source": [
        "## Ejercicio 11:\n",
        "\n",
        "Crea una función que devuelve la mediana de una lista de 3 números:\n",
        "\n",
        "NOTA: la mediana es el valor que esta en el centro de una lista ordenada de menor a mayor de números, por ejemplo:\n",
        "```python\n",
        "10, 33, 45, 54, 32, 45, 89 -> mediana = 54\n",
        "```\n",
        "\n",
        "NOTA2: para ordenar una lista en Python, echa un vistazo al método [sorted()](https://docs.python.org/es/3/howto/sorting.html).\n"
      ]
    },
    {
      "cell_type": "code",
      "metadata": {
        "colab_type": "code",
        "id": "JN92OcWfEqwo",
        "colab": {}
      },
      "source": [
        "# TODO:\n",
        "def mediana"
      ],
      "execution_count": null,
      "outputs": []
    },
    {
      "cell_type": "markdown",
      "metadata": {
        "colab_type": "text",
        "id": "ZUO_WU_8Eqw1"
      },
      "source": [
        "Comprobemos que lo has hecho OK:"
      ]
    },
    {
      "cell_type": "code",
      "metadata": {
        "colab_type": "code",
        "id": "59hQLEv7Eqw2",
        "colab": {}
      },
      "source": [
        "assert mediana([9, 10, 11]) == 10\n",
        "assert mediana([1, 5, 11]) == 5\n",
        "assert mediana([10, -100, 0]) == 0"
      ],
      "execution_count": null,
      "outputs": []
    },
    {
      "cell_type": "markdown",
      "metadata": {
        "colab_type": "text",
        "id": "T71adzJOHWpM"
      },
      "source": [
        "## Ejercicio 12:\n",
        "\n",
        "Crea una función que devuelve una lista con la sequencia de números al reves, por ejemplo:\n",
        "```\n",
        "cuenta_atras(4) -> [4, 3, 2, 1, 0]\n"
      ]
    },
    {
      "cell_type": "code",
      "metadata": {
        "colab_type": "code",
        "id": "Wc8fUwOcHWpT",
        "colab": {}
      },
      "source": [
        "# TODO:\n",
        "def cuenta_atras(num):"
      ],
      "execution_count": null,
      "outputs": []
    },
    {
      "cell_type": "markdown",
      "metadata": {
        "colab_type": "text",
        "id": "7owE0dVZHWpk"
      },
      "source": [
        "Comprobemos que lo has hecho OK:"
      ]
    },
    {
      "cell_type": "code",
      "metadata": {
        "colab_type": "code",
        "id": "IGbzTRuYHWpm",
        "colab": {}
      },
      "source": [
        "assert cuenta_atras(0) == [0]\n",
        "assert cuenta_atras(-5) == [0, -1, -2, -3, -4, -5]\n",
        "assert cuenta_atras(5) == [5, 4, 3, 2, 1, 0]"
      ],
      "execution_count": null,
      "outputs": []
    },
    {
      "cell_type": "markdown",
      "metadata": {
        "colab_type": "text",
        "id": "bFyDo5PYINoF"
      },
      "source": [
        "## Ejercicio 13:\n",
        "\n",
        "Crea una función que devuelve la última y primera posición en la que aparece un caracter o cadena de caracteres en un texto, por ejemplo:\n",
        "```\n",
        "encuentra_ultimo('abba', 'a') -> [3, 0]\n",
        "```\n",
        "\n",
        "AYUDA: investiga los métodos de [string](https://docs.python.org/es/3/library/stdtypes.html#string-methods) para ver si te puedes apoyar en algunos de los métodos ya construidos para esta operación.\n"
      ]
    },
    {
      "cell_type": "code",
      "metadata": {
        "colab_type": "code",
        "id": "3J7KjibgINoL",
        "colab": {}
      },
      "source": [
        "# TODO:\n",
        "def encuentra_ultimo(texto, caracteres):\n",
        "  "
      ],
      "execution_count": null,
      "outputs": []
    },
    {
      "cell_type": "markdown",
      "metadata": {
        "colab_type": "text",
        "id": "O8z8caLyINoa"
      },
      "source": [
        "Comprobemos que lo has hecho OK:"
      ]
    },
    {
      "cell_type": "code",
      "metadata": {
        "colab_type": "code",
        "id": "NP3Z3k0xINoc",
        "colab": {}
      },
      "source": [
        "assert encuentra_ultimo('abba', 'a') == [3, 0]\n",
        "assert encuentra_ultimo('aaviaavia', 'aa') == [4, 0]\n",
        "assert encuentra_ultimo('123412341234', '4') == [11, 3]"
      ],
      "execution_count": null,
      "outputs": []
    },
    {
      "cell_type": "markdown",
      "metadata": {
        "colab_type": "text",
        "id": "p-HkLcodJzxH"
      },
      "source": [
        "## Ejercicio 14:\n",
        "\n",
        "Crea una función que imprime una tabla de multiplicación, por ejemplo:\n",
        "```\n",
        "print_multiplication_table(2)\n",
        "\n",
        "['1 x 1 = 1', '1 x 2 = 2', '2 x 1 = 2', '2 x 2 = 4']\n",
        "```\n",
        "\n"
      ]
    },
    {
      "cell_type": "code",
      "metadata": {
        "colab_type": "code",
        "id": "UW1j-W5VJzxJ",
        "colab": {}
      },
      "source": [
        "# TODO:\n",
        "def print_multiplication_table(num):\n",
        "    results = []  \n",
        "    numbers = range(1, num + 1)\n",
        "    for i in numbers:\n",
        "        for j in numbers: \n",
        "            results.append(f'{i} x {j} = {i*j}')\n",
        "    return results\n",
        "\n",
        "print_multiplication_table(1)\n",
        "  "
      ],
      "execution_count": null,
      "outputs": []
    },
    {
      "cell_type": "markdown",
      "metadata": {
        "colab_type": "text",
        "id": "w5Ve9sM2JzxR"
      },
      "source": [
        "Comprobemos que lo has hecho OK:"
      ]
    },
    {
      "cell_type": "code",
      "metadata": {
        "colab_type": "code",
        "id": "qFe5BbUZJzxS",
        "colab": {}
      },
      "source": [
        "assert print_multiplication_table(3) == ['1 x 1 = 1',  '1 x 2 = 2',  '1 x 3 = 3',  '2 x 1 = 2',  '2 x 2 = 4',  '2 x 3 = 6',  '3 x 1 = 3',  '3 x 2 = 6',  '3 x 3 = 9']\n",
        "assert print_multiplication_table(1) == ['1 x 1 = 1']"
      ],
      "execution_count": null,
      "outputs": []
    },
    {
      "cell_type": "markdown",
      "metadata": {
        "colab_type": "text",
        "id": "z-VpWOCMTl6t"
      },
      "source": [
        "## Ejercicio 15:\n",
        "\n",
        "Completa la siguiente función rellenando los huecos `___`:\n",
        "\n",
        "\n"
      ]
    },
    {
      "cell_type": "code",
      "metadata": {
        "colab_type": "code",
        "id": "ixH5qAlwTl6z",
        "colab": {}
      },
      "source": [
        "____ count_even_numbers(numbers):\n",
        "    count = 0\n",
        "    for num in ____:\n",
        "        if ____ % 2 == ____:\n",
        "            count += ____\n",
        "    _____ _____"
      ],
      "execution_count": null,
      "outputs": []
    },
    {
      "cell_type": "markdown",
      "metadata": {
        "colab_type": "text",
        "id": "JtY0p5h1Tl6_"
      },
      "source": [
        "Comprobemos que has realizado el ejercicio OK:\n"
      ]
    },
    {
      "cell_type": "code",
      "metadata": {
        "colab_type": "code",
        "id": "A4TZDremTl7A",
        "colab": {}
      },
      "source": [
        "assert count_even_numbers([1, 2, 3, 4, 5, 6]) == 3\n",
        "assert count_even_numbers([1, 3, 5, 7]) == 0\n",
        "assert count_even_numbers([-2, 2, -10, 8]) == 4"
      ],
      "execution_count": null,
      "outputs": []
    },
    {
      "cell_type": "markdown",
      "metadata": {
        "colab_type": "text",
        "id": "J6grou3ITl7I"
      },
      "source": [
        "## Ejercicio 16:\n",
        "\n",
        "Crea una función que se llame `promedio_size_palabras` y que devuelve el tamaño medio de las palabras que hay en un texto. Por ejemplo:\n",
        "```python\n",
        "# la media de una palabra de 4 caracteres ('hola') + otra de 2 caracteres ('es') es 3:\n",
        "promedio_size_palabras('hola es', ' ') -> 3\n",
        "```\n",
        "\n",
        "IMPORTANTE: las palabras pueden venir separadas por los siguientes separadores: ` `, `|`, `***`. Con lo cual, la función debe tener un argumento para gestionar esas situaciones: \n",
        "\n",
        "\n"
      ]
    },
    {
      "cell_type": "code",
      "metadata": {
        "colab_type": "code",
        "id": "Unwnykx7Tl7J",
        "colab": {}
      },
      "source": [
        "# TODO:"
      ],
      "execution_count": null,
      "outputs": []
    },
    {
      "cell_type": "markdown",
      "metadata": {
        "colab_type": "text",
        "id": "dOBDC_KbTl7M"
      },
      "source": [
        "Comprobemos que has realizado el ejercicio OK:\n"
      ]
    },
    {
      "cell_type": "code",
      "metadata": {
        "colab_type": "code",
        "id": "KcdZoRuOTl7N",
        "colab": {}
      },
      "source": [
        "assert promedio_size_palabras('only four lett erwo rdss') == 4\n",
        "assert promedio_size_palabras('one***two***three', '***') == 3.7\n",
        "assert promedio_size_palabras('one|two|three|four', '|') == 3.8\n",
        "assert promedio_size_palabras('') == 0"
      ],
      "execution_count": null,
      "outputs": []
    },
    {
      "cell_type": "markdown",
      "metadata": {
        "colab_type": "text",
        "id": "38E3yzyjVC2p"
      },
      "source": [
        "## Ejercicio 17:\n",
        "\n",
        "Arregla la siguiente función de manera que se cumpla:\n",
        "```\n",
        "procesamiento(12, 'hola') == 'hola'\n",
        "procesamiento(15, 'adla') == 'positive number'\n",
        "procesamiento(-15, 'ñora') == 'ñora-8'\n",
        "procesamiento(-1, 'Año') == 'oñ'\n",
        "procesamiento(-1, 'alla') == 'adios'\n",
        "procesamiento(5, 'españa') == 'eeeee'\n",
        "procesamiento(5, 'españa') == 'españa'\n",
        "```\n",
        "\n",
        "Tienes que sustituir los campos `___` por lo que corresponda.\n",
        "\n"
      ]
    },
    {
      "cell_type": "code",
      "metadata": {
        "colab_type": "code",
        "id": "XUOG2JqKVC2t",
        "colab": {}
      },
      "source": [
        "# TODO\n",
        "def procesamiento(num, texto):\n",
        "    if num < 0:\n",
        "        num += 7\n",
        "        if 'o' in texto and num >= 0:\n",
        "            return texto[::-1][:2] \n",
        "        elif num >= 0:\n",
        "            return ___\n",
        "        else:\n",
        "            return texto + str(num) \n",
        "    elif texto[:2] == 'ad':\n",
        "        if num > 0 or num == 0:\n",
        "            return ___\n",
        "    else:\n",
        "        if 'ñ' in texto:\n",
        "            if num > 10:\n",
        "                return texto\n",
        "            return texto[0]*num\n",
        "        else:\n",
        "            return ___\n",
        "\n",
        "procesamiento(12, 'hola')\n",
        "  "
      ],
      "execution_count": null,
      "outputs": []
    },
    {
      "cell_type": "markdown",
      "metadata": {
        "colab_type": "text",
        "id": "Rqg4pTyEVC28"
      },
      "source": [
        "Comprobemos que la implementación es correcta para el input dado:\n",
        "\n"
      ]
    },
    {
      "cell_type": "code",
      "metadata": {
        "colab_type": "code",
        "id": "T_SMigOvVC2-",
        "colab": {}
      },
      "source": [
        "assert procesamiento(12, 'hola') == 'hola'\n",
        "assert procesamiento(15, 'adla') == 'positive number'\n",
        "assert procesamiento(-15, 'ñora') == 'ñora-8'\n",
        "assert procesamiento(-1, 'Año') == 'oñ'\n",
        "assert procesamiento(-1, 'alla') == 'adios'\n",
        "assert procesamiento(5, 'españa') == 'eeeee'\n",
        "assert procesamiento(15, 'españa') == 'españa'"
      ],
      "execution_count": null,
      "outputs": []
    },
    {
      "cell_type": "markdown",
      "metadata": {
        "colab_type": "text",
        "id": "N5-rCe-xVC3C"
      },
      "source": [
        "## Ejercicio 18:\n",
        "\n",
        "Crea una función que devuelva un diccionario donde las `keys` son los elementos únicos que hay en la lista y los valores asociados, el número de veces que aparecen repetidos. Por ejemplo:\n",
        "```\n",
        "summary(['hola', 'hola', 'adios']) -> {'hola': 2, 'adios': 1}\n",
        "```\n",
        "\n",
        "\n"
      ]
    },
    {
      "cell_type": "code",
      "metadata": {
        "colab_type": "code",
        "id": "ORC7BReMVC3D",
        "colab": {}
      },
      "source": [
        "# TODO\n",
        "def summary  "
      ],
      "execution_count": null,
      "outputs": []
    },
    {
      "cell_type": "markdown",
      "metadata": {
        "colab_type": "text",
        "id": "lEDlZOfzVC3H"
      },
      "source": [
        "Comprobemos que la implementación es correcta para el input dado:\n",
        "\n"
      ]
    },
    {
      "cell_type": "code",
      "metadata": {
        "colab_type": "code",
        "id": "4k90kptGVC3I",
        "colab": {}
      },
      "source": [
        "assert summary(['hola', 'hola', 'adios']) == {'hola': 2, 'adios': 1}\n",
        "assert summary(['a', 'b', 'b', 'a', 'c']) == {'a': 2, 'c': 1, 'b': 2}"
      ],
      "execution_count": null,
      "outputs": []
    },
    {
      "cell_type": "markdown",
      "metadata": {
        "colab_type": "text",
        "id": "3vrg3sBZOPFw"
      },
      "source": [
        "## Ejercicio 19:\n",
        "\n",
        "Crea funciones lambda (`lambda_F` y `lambda_C`) a partir de estas funciones que convierten temperaturas entre sistemas de unidades:\n",
        "```python\n",
        "def fahrenheit(T):\n",
        "    return ((float(9)/5)*T + 32)\n",
        " \n",
        "def celsius(T):\n",
        "    return (float(5)/9)*(T-32)\n",
        "```\n",
        "\n",
        "y a continuación, usa `map` para convertir listas de temperaturas de celsius a fahrenheits y viceversa. Por ejemplo:\n",
        "```python\n",
        "C = [39.2, 36.5, 37.3, 38, 37.8] \n",
        "F = list(map(lambda_F, C))\n",
        "print(F)\n",
        "\n",
        "# output: [102.56, 97.7, 99.14, 100.4, 100.03999999999999]\n",
        "```\n",
        "\n"
      ]
    },
    {
      "cell_type": "code",
      "metadata": {
        "id": "3TfG-4TFQTZT",
        "colab_type": "code",
        "colab": {}
      },
      "source": [
        "# TODO:\n",
        "lambda_C = \n",
        "lambda_F ="
      ],
      "execution_count": null,
      "outputs": []
    },
    {
      "cell_type": "markdown",
      "metadata": {
        "colab_type": "text",
        "id": "Lkb0qIeSOPGG"
      },
      "source": [
        "Comprobemos que lo has hecho OK:"
      ]
    },
    {
      "cell_type": "code",
      "metadata": {
        "colab_type": "code",
        "id": "_4rmwiogOPGH",
        "colab": {}
      },
      "source": [
        "assert list(map(lambda_F, [39.2, 36.5, 37.3, 38, 37.8])) == [102.56, 97.7, 99.14, 100.4, 100.03999999999999]\n",
        "assert list(map(lambda_C, [100, 110, 120 , 140])) == [37.77777777777778, 43.333333333333336, 48.88888888888889, 60.0]"
      ],
      "execution_count": null,
      "outputs": []
    },
    {
      "cell_type": "markdown",
      "metadata": {
        "colab_type": "text",
        "id": "DjCJV4XzL_CD"
      },
      "source": [
        "## Ejercicio 20:\n",
        "\n",
        "Utiliza los operadores reduce y lambda para concatenar cadenas de texto. Por ejemplo:\n",
        "```\n",
        "input: ['hola', 'que', 'tal', 'estas'] -> output: 'holaquetalestas'\n",
        "input: ['me', 'gusta', 'python'] -> output: 'megustapython'\n",
        "```\n",
        "\n"
      ]
    },
    {
      "cell_type": "code",
      "metadata": {
        "colab_type": "code",
        "id": "oxDuq0hfL_CK",
        "colab": {}
      },
      "source": [
        "import functools\n",
        "\n",
        "input = ['adios', 'hola', 'adios']\n",
        "j = #TODO\n",
        "  "
      ],
      "execution_count": null,
      "outputs": []
    },
    {
      "cell_type": "markdown",
      "metadata": {
        "id": "OBVbwRVNTs0o",
        "colab_type": "text"
      },
      "source": [
        "Comprobemos que la implementación es correcta para el input dado:\n",
        "\n"
      ]
    },
    {
      "cell_type": "code",
      "metadata": {
        "id": "6LO95a6ITs-M",
        "colab_type": "code",
        "colab": {}
      },
      "source": [
        "assert j = 'adiosholaadios'"
      ],
      "execution_count": null,
      "outputs": []
    },
    {
      "cell_type": "markdown",
      "metadata": {
        "colab_type": "text",
        "id": "axP_03iSQPv5"
      },
      "source": [
        "## Ejercicio 21:\n",
        "\n",
        "A continuación, tienes que encontrar los 3 errores que tiene el siguiente código para que funcione.\n",
        "\n",
        "La función debe arrojar los siguientes resultados:\n",
        "```python\n",
        "crea_diccionario(['a', 'b', 'c'], [1, 2, 3]) -> {'a': 1, 'b': 6, 'c': 7}\n",
        "crea_diccionario(['Python', 'is', 'Great!'], [-10, 0, 10]) -> {'Great!': 14, 'Python': -10, 'is': 0}\n",
        "crea_diccionario(['hola', 'que', 'tal', 'estas?'], [0, 1, 2, 3]) -> {'estas?': 7, 'hola': 0, 'que': 1, 'tal': 6}\n",
        "```\n",
        "\n",
        "\n"
      ]
    },
    {
      "cell_type": "code",
      "metadata": {
        "colab_type": "code",
        "id": "DN_mHb0eQPv_",
        "colab": {}
      },
      "source": [
        "# TODO: identifica los 3 errores en la función:\n",
        "def crea_diccionario(llaves, valores):\n",
        "    resultado = []\n",
        "    for idx, llave in enumerate(llaves):\n",
        "        valor = valores[idx]\n",
        "        if valor == 2:\n",
        "             resultado[llave] = valor + 4\n",
        "        else:\n",
        "            resultado[llave] = valor\n",
        "    return resultado   "
      ],
      "execution_count": null,
      "outputs": []
    },
    {
      "cell_type": "markdown",
      "metadata": {
        "colab_type": "text",
        "id": "JjlMbFLJQPwU"
      },
      "source": [
        "Comprobemos que has realizado el ejercicio OK:\n"
      ]
    },
    {
      "cell_type": "code",
      "metadata": {
        "colab_type": "code",
        "id": "FLcdk3wfQPwV",
        "colab": {}
      },
      "source": [
        "assert crea_diccionario(['a', 'b', 'c'], [1, 2, 3]) == {'a': 1, 'b': 6, 'c': 7}\n",
        "assert crea_diccionario(['Python', 'is', 'Great!'], [-10, 0, 10]) == {'Great!': 14, 'Python': -10, 'is': 0}\n",
        "assert crea_diccionario(['hola', 'que', 'tal', 'estas?'], [0, 1, 2, 3]) == {'estas?': 7, 'hola': 0, 'que': 1, 'tal': 6}"
      ],
      "execution_count": null,
      "outputs": []
    },
    {
      "cell_type": "markdown",
      "metadata": {
        "colab_type": "text",
        "id": "8aaP4nEOWW7u"
      },
      "source": [
        "## Ejercicio 22:\n",
        "\n",
        "Completa los `___` en el código a continuación. La función `sum_of_list` debe sumar todos los elementos en una lista y cuando alguno de estos elementos no es numérico, debe ignorarlo y continuar:\n",
        "\n",
        "\n"
      ]
    },
    {
      "cell_type": "code",
      "metadata": {
        "colab_type": "code",
        "id": "ZQEXICHpWW73",
        "colab": {}
      },
      "source": [
        "# TODO: \n",
        "def sum_of_list(values):\n",
        "    ____ = 0\n",
        "    for val in values:\n",
        "        ____:\n",
        "            numeric_val = float(val)\n",
        "        ____ ____ as e:\n",
        "            ____\n",
        "        ____ += numeric_val\n",
        "    return ____ "
      ],
      "execution_count": null,
      "outputs": []
    },
    {
      "cell_type": "markdown",
      "metadata": {
        "colab_type": "text",
        "id": "aVHjNZdYWW8G"
      },
      "source": [
        "Comprobemos que has realizado el ejercicio OK:\n"
      ]
    },
    {
      "cell_type": "code",
      "metadata": {
        "colab_type": "code",
        "id": "4Pgb8-WFWW8I",
        "colab": {}
      },
      "source": [
        "list1 = [1, 2, 3]\n",
        "list2 = ['1', 2.5, '3.0']\n",
        "list3 = ['', '1']\n",
        "list4 = []\n",
        "list5 = ['John', 'Doe', 'was', 'here']\n",
        "nasty_list = [KeyError(), [], dict()]\n",
        "\n",
        "assert sum_of_list(list1) == 6\n",
        "assert sum_of_list(list2) == 6.5\n",
        "assert sum_of_list(list3) == 1\n",
        "assert sum_of_list(list4) == 0\n",
        "assert sum_of_list(list5) == 0\n",
        "assert sum_of_list(nasty_list) == 0"
      ],
      "execution_count": null,
      "outputs": []
    }
  ]
}